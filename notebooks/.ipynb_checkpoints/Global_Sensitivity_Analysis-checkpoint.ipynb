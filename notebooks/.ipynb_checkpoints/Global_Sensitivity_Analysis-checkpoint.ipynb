{
 "cells": [
  {
   "cell_type": "markdown",
   "metadata": {},
   "source": [
    "# Purpose\n",
    "This notebook provides an example of how to use parallel coordinates plots as a visual means to conduct sensitivity analysis. For this example, we will create a mobility factor scoring model for a ground vehicle based on a simple weighted average of three parameters: Range(km), Max Road Speed(km/hr), and Max Off-Road Speed (km/hr).\n",
    "\n",
    "# Methodlogy\n",
    "First, I will create a dataframe that contains a sample of various vehicle configurations based on a given lower and upper limit for each parameter. For this example we will use a the following lower and upper limits:\n",
    "\n",
    "1. Range: 100km - 1300km\n",
    "2. Max Road Speed: 10 km/hr - 130 km/hr\n",
    "3. Max Off-Road Speed: 10 km/hr - 110 km/hr\n",
    "\n",
    "To create the samples, I will use the SALib library in Python to create a latin hypercube of 17 samples. In essence, the SALib library implments various global sensitivy analysis algorithms for a given model. Click [here](http://salib.readthedocs.io/en/latest/) for documentation. "
   ]
  },
  {
   "cell_type": "code",
   "execution_count": 1,
   "metadata": {
    "collapsed": false
   },
   "outputs": [
    {
     "data": {
      "text/html": [
       "<script>requirejs.config({paths: { 'plotly': ['https://cdn.plot.ly/plotly-latest.min']},});if(!window.Plotly) {{require(['plotly'],function(plotly) {window.Plotly=plotly;});}}</script>"
      ],
      "text/vnd.plotly.v1+html": [
       "<script>requirejs.config({paths: { 'plotly': ['https://cdn.plot.ly/plotly-latest.min']},});if(!window.Plotly) {{require(['plotly'],function(plotly) {window.Plotly=plotly;});}}</script>"
      ]
     },
     "metadata": {},
     "output_type": "display_data"
    },
    {
     "name": "stdout",
     "output_type": "stream",
     "text": [
      "              0           1           2\n",
      "0    526.964347   98.963318   64.094949\n",
      "1    905.603819   28.023159   75.770905\n",
      "2    708.780970   33.675287   51.565162\n",
      "3   1012.367864   39.814189   98.329715\n",
      "4   1032.593503   52.837650   97.496924\n",
      "5    147.602765  123.363188  104.929831\n",
      "6   1147.999226   78.076277   25.653460\n",
      "7   1231.969154   21.305959   12.962960\n",
      "8   1198.592127   15.042643   31.628636\n",
      "9    176.843909   68.734631   37.040324\n",
      "10   342.684305   83.210915   85.951886\n",
      "11   303.679415   91.418685   20.025145\n",
      "12   809.306358   60.009799   59.765216\n",
      "13   789.038761  119.659080   88.692683\n",
      "14   521.463043  102.492608   72.858125\n",
      "15   446.246249   49.569837   42.816445\n",
      "16   612.024997  112.189694   46.791291\n"
     ]
    }
   ],
   "source": [
    "#Author: MAJ Cardy Moten III, TRAC-Monterey\n",
    "#Email: cardy.moten3.mil@mail.mil\n",
    "from SALib.sample import latin\n",
    "import numpy as np\n",
    "import pandas as pd\n",
    "import plotly\n",
    "import plotly.graph_objs as go\n",
    "plotly.offline.init_notebook_mode(connected=True)\n",
    "\n",
    "#Define the model inputs\n",
    "\n",
    "problem = {\n",
    "  'num_vars':3,\n",
    "  'names': ['x1','x2','x3'],\n",
    "  'bounds': [[100,1300],\n",
    "             [10,130],\n",
    "             [10,110]]\n",
    "}\n",
    "\n",
    "\n",
    "#Create the parameter values\n",
    "param_values = pd.DataFrame(latin.sample(problem,17))\n",
    "print(param_values)\n",
    "#param_values.to_csv(\"testvalues.csv\",index=False)\n"
   ]
  },
  {
   "cell_type": "markdown",
   "metadata": {},
   "source": [
    "In the example code above, the final data frame consists of three columns representing the inputs for Range, Max Road Speed, and Max Off-Road Speed repspectively."
   ]
  },
  {
   "cell_type": "markdown",
   "metadata": {},
   "source": [
    "# Value Function\n",
    "\n",
    "The next step is to crate use a value model to compute the relative value of the particular parameter. For this example, I will use a monotonically increasing exponential function with values bounded between 0 and 1 for the parameter value. The formula is: $$value_i = \\frac{1-exp\\left(-\\left(x_{i}-min_{i}\\right)/\\rho_{i}\\right)}{1-exp\\left(-\\left(max_i-min_i\\right)/\\rho_i\\right)}$$\n",
    "\n",
    "where $x_i$ is the current evaluated parameter amount, $min_i$ is the minimum amount of the evaluated parameter, $max_i$ is the maximum of the evaluated parameter, $\\rho_i$ is the exponential constant of the evaluated parameter, and $i=${Range,Max Road Speed,Max Off Road Speed}. Of note, the exponential constant ($\\rho$) determines the shape of the exponential curve. Low positive values will make the curve more concave down. Conversely high negative values will make the curve more concave up. As the value of the exponential constant approaches positive or negative infinity, the curve will become more of a straight line. \n",
    "\n",
    "After computing the parameter value, I will then compute a final mobility score by computing a simple weighted average as follows:\n",
    "\n",
    "$$mobility = w_{Range}*v_{Range}+w_{Max Road Speed}*v_{Max Road Speed}+w_{Range}*v_{Max Off Road Speed}$$\n",
    "\n",
    "The weights for Range, Max Road Speed, and Max Off-Road Speed will be 0.3,0.1,0.6 respectively. "
   ]
  },
  {
   "cell_type": "code",
   "execution_count": 2,
   "metadata": {
    "collapsed": false
   },
   "outputs": [
    {
     "name": "stdout",
     "output_type": "stream",
     "text": [
      "          Range  Max_Road_Speed  Max_Off_Road_Speed  Mobility_Score\n",
      "0    526.964347       98.963318           64.094949        0.989702\n",
      "1    905.603819       28.023159           75.770905        0.991334\n",
      "2    708.780970       33.675287           51.565162        0.983923\n",
      "3   1012.367864       39.814189           98.329715        0.999191\n",
      "4   1032.593503       52.837650           97.496924        0.999844\n",
      "5    147.602765      123.363188          104.929831        0.700000\n",
      "6   1147.999226       78.076277           25.653460        0.831377\n",
      "7   1231.969154       21.305959           12.962960        0.371426\n",
      "8   1198.592127       15.042643           31.628636        0.807257\n",
      "9    176.843909       68.734631           37.040324        0.722105\n",
      "10   342.684305       83.210915           85.951886        0.957012\n",
      "11   303.679415       91.418685           20.025145        0.640939\n",
      "12   809.306358       60.009799           59.765216        0.994086\n",
      "13   789.038761      119.659080           88.692683        0.999267\n",
      "14   521.463043      102.492608           72.858125        0.991427\n",
      "15   446.246249       49.569837           42.816445        0.954510\n",
      "16   612.024997      112.189694           46.791291        0.976809\n"
     ]
    }
   ],
   "source": [
    "#Exponential Value Function\n",
    "def expValFunction(data,high,low,rho):\n",
    "    res_upper = 1-np.exp(-1*(data-low)/rho)\n",
    "    res_lower = 1-np.exp(-1*(high-low)/rho)\n",
    "    return(res_upper/res_lower)\n",
    "\n",
    "#Vectors to collect parameter values\n",
    "Y1 = np.zeros(param_values.shape[0]) #Range\n",
    "Y2 = np.zeros(param_values.shape[0]) #Max Road Speed\n",
    "Y3 = np.zeros(param_values.shape[0]) #Max Off Road Speed\n",
    "\n",
    "#Maximum and Minimum values of each parameter\n",
    "Y1_max = param_values[0].max(axis=0) #axis = 0 gets column wise maximum\n",
    "Y1_min = param_values[0].min(axis=0)\n",
    "Y2_max = param_values[1].max(axis=0) \n",
    "Y2_min = param_values[1].min(axis=0)\n",
    "Y3_max = param_values[2].max(axis=0) \n",
    "Y3_min = param_values[2].min(axis=0)\n",
    "\n",
    "#Exponential Constant\n",
    "rho_values = [100,5,10]\n",
    "\n",
    "#This is not the most efficient way, but I wanted to ensure I got each part right\n",
    "for i,X in enumerate(param_values[0]):\n",
    "    Y1[i] = expValFunction(X,Y1_max,Y1_min,rho_values[0])\n",
    "for i,X in enumerate(param_values[1]):\n",
    "    Y2[i] = expValFunction(X,Y2_max,Y2_min,rho_values[1])\n",
    "for i,X in enumerate(param_values[2]):\n",
    "    Y3[i] = expValFunction(X,Y3_max,Y3_min,rho_values[2])\n",
    "    \n",
    "#Mobility score weights\n",
    "weightList = [0.3,0.1,0.6]\n",
    "final_score = weightList[0]*Y1+weightList[1]*Y2+weightList[2]*Y3\n",
    "param_values['finalScore'] = final_score\n",
    "param_values.columns = ['Range','Max_Road_Speed','Max_Off_Road_Speed','Mobility_Score']\n",
    "print(param_values)"
   ]
  },
  {
   "cell_type": "markdown",
   "metadata": {},
   "source": [
    "# Visualize Results\n",
    "\n",
    "Now that I have a dataframe with the results that I need, I can now crate a parallel coordinates plot of the values and try and visually determine which parameters are most sensitve to the final score. \n",
    "\n",
    "In short, for this plot, each parameter along with the mobility score will have its own axis scale. The axes will be arrayed parallel to each other. Using plotly, we can add an interactive constraint range slider bar to each axis to interact with the graph. "
   ]
  },
  {
   "cell_type": "code",
   "execution_count": 3,
   "metadata": {
    "collapsed": false
   },
   "outputs": [
    {
     "data": {
      "application/vnd.plotly.v1+json": {
       "data": [
        {
         "dimensions": [
          {
           "constraintrange": [
            100,
            500
           ],
           "label": "Range",
           "range": [
            100,
            1300
           ],
           "values": [
            526.9643465488712,
            905.6038189844633,
            708.7809698077111,
            1012.3678640310998,
            1032.5935029753266,
            147.602765295325,
            1147.9992264994414,
            1231.9691540673075,
            1198.592127426232,
            176.84390906426376,
            342.68430492149355,
            303.67941546093357,
            809.3063583286194,
            789.038761392877,
            521.4630432199608,
            446.2462488669031,
            612.0249966534925
           ]
          },
          {
           "constraintrange": [
            10,
            50
           ],
           "label": "Max Road Speed",
           "range": [
            10,
            130
           ],
           "values": [
            98.96331800311323,
            28.023159235815427,
            33.675286564639016,
            39.814189468881295,
            52.83765003802443,
            123.3631879121621,
            78.07627665513527,
            21.305959226194755,
            15.042643223223523,
            68.73463059229883,
            83.21091532056225,
            91.41868507978099,
            60.00979894659339,
            119.65908011755256,
            102.49260786916234,
            49.56983670967631,
            112.18969394114157
           ]
          },
          {
           "constraintrange": [
            10,
            50
           ],
           "label": "Max Off Road Speed",
           "range": [
            10,
            110
           ],
           "values": [
            64.09494936134773,
            75.77090494373817,
            51.56516184657212,
            98.32971458596747,
            97.49692441014973,
            104.92983102932982,
            25.65345968934055,
            12.962959532099767,
            31.62863566072525,
            37.04032411171221,
            85.95188588930132,
            20.025145345291932,
            59.76521593421901,
            88.69268283314811,
            72.85812509340685,
            42.81644456182497,
            46.79129111509391
           ]
          },
          {
           "constraintrange": [
            0.5,
            0.8
           ],
           "label": "Mobility Score",
           "range": [
            0,
            1
           ],
           "values": [
            0.98970188942555,
            0.9913339010872247,
            0.9839233786226079,
            0.9991910351518625,
            0.9998436125533134,
            0.7,
            0.831376568224639,
            0.3714257208027887,
            0.8072569522913149,
            0.7221049704181532,
            0.9570124905076708,
            0.6409387989689592,
            0.9940863260430238,
            0.9992667910501223,
            0.9914272755968299,
            0.9545098406622042,
            0.9768087881458288
           ]
          }
         ],
         "line": {
          "color": "blue"
         },
         "type": "parcoords"
        }
       ],
       "layout": {}
      },
      "text/html": [
       "<div id=\"f2997820-1086-4f58-bdda-bed495f96f99\" style=\"height: 525px; width: 100%;\" class=\"plotly-graph-div\"></div><script type=\"text/javascript\">require([\"plotly\"], function(Plotly) { window.PLOTLYENV=window.PLOTLYENV || {};window.PLOTLYENV.BASE_URL=\"https://plot.ly\";Plotly.newPlot(\"f2997820-1086-4f58-bdda-bed495f96f99\", [{\"line\": {\"color\": \"blue\"}, \"dimensions\": [{\"values\": [526.9643465488712, 905.6038189844633, 708.7809698077111, 1012.3678640310998, 1032.5935029753266, 147.602765295325, 1147.9992264994414, 1231.9691540673075, 1198.592127426232, 176.84390906426376, 342.68430492149355, 303.67941546093357, 809.3063583286194, 789.038761392877, 521.4630432199608, 446.2462488669031, 612.0249966534925], \"constraintrange\": [100, 500], \"range\": [100, 1300], \"label\": \"Range\"}, {\"values\": [98.96331800311323, 28.023159235815427, 33.675286564639016, 39.814189468881295, 52.83765003802443, 123.3631879121621, 78.07627665513527, 21.305959226194755, 15.042643223223523, 68.73463059229883, 83.21091532056225, 91.41868507978099, 60.00979894659339, 119.65908011755256, 102.49260786916234, 49.56983670967631, 112.18969394114157], \"constraintrange\": [10, 50], \"range\": [10, 130], \"label\": \"Max Road Speed\"}, {\"values\": [64.09494936134773, 75.77090494373817, 51.56516184657212, 98.32971458596747, 97.49692441014973, 104.92983102932982, 25.65345968934055, 12.962959532099767, 31.62863566072525, 37.04032411171221, 85.95188588930132, 20.025145345291932, 59.76521593421901, 88.69268283314811, 72.85812509340685, 42.81644456182497, 46.79129111509391], \"constraintrange\": [10, 50], \"range\": [10, 110], \"label\": \"Max Off Road Speed\"}, {\"values\": [0.98970188942555, 0.9913339010872247, 0.9839233786226079, 0.9991910351518625, 0.9998436125533134, 0.7, 0.831376568224639, 0.3714257208027887, 0.8072569522913149, 0.7221049704181532, 0.9570124905076708, 0.6409387989689592, 0.9940863260430238, 0.9992667910501223, 0.9914272755968299, 0.9545098406622042, 0.9768087881458288], \"constraintrange\": [0.5, 0.8], \"range\": [0, 1], \"label\": \"Mobility Score\"}], \"type\": \"parcoords\"}], {}, {\"showLink\": true, \"linkText\": \"Export to plot.ly\"})});</script>"
      ],
      "text/vnd.plotly.v1+html": [
       "<div id=\"f2997820-1086-4f58-bdda-bed495f96f99\" style=\"height: 525px; width: 100%;\" class=\"plotly-graph-div\"></div><script type=\"text/javascript\">require([\"plotly\"], function(Plotly) { window.PLOTLYENV=window.PLOTLYENV || {};window.PLOTLYENV.BASE_URL=\"https://plot.ly\";Plotly.newPlot(\"f2997820-1086-4f58-bdda-bed495f96f99\", [{\"line\": {\"color\": \"blue\"}, \"dimensions\": [{\"values\": [526.9643465488712, 905.6038189844633, 708.7809698077111, 1012.3678640310998, 1032.5935029753266, 147.602765295325, 1147.9992264994414, 1231.9691540673075, 1198.592127426232, 176.84390906426376, 342.68430492149355, 303.67941546093357, 809.3063583286194, 789.038761392877, 521.4630432199608, 446.2462488669031, 612.0249966534925], \"constraintrange\": [100, 500], \"range\": [100, 1300], \"label\": \"Range\"}, {\"values\": [98.96331800311323, 28.023159235815427, 33.675286564639016, 39.814189468881295, 52.83765003802443, 123.3631879121621, 78.07627665513527, 21.305959226194755, 15.042643223223523, 68.73463059229883, 83.21091532056225, 91.41868507978099, 60.00979894659339, 119.65908011755256, 102.49260786916234, 49.56983670967631, 112.18969394114157], \"constraintrange\": [10, 50], \"range\": [10, 130], \"label\": \"Max Road Speed\"}, {\"values\": [64.09494936134773, 75.77090494373817, 51.56516184657212, 98.32971458596747, 97.49692441014973, 104.92983102932982, 25.65345968934055, 12.962959532099767, 31.62863566072525, 37.04032411171221, 85.95188588930132, 20.025145345291932, 59.76521593421901, 88.69268283314811, 72.85812509340685, 42.81644456182497, 46.79129111509391], \"constraintrange\": [10, 50], \"range\": [10, 110], \"label\": \"Max Off Road Speed\"}, {\"values\": [0.98970188942555, 0.9913339010872247, 0.9839233786226079, 0.9991910351518625, 0.9998436125533134, 0.7, 0.831376568224639, 0.3714257208027887, 0.8072569522913149, 0.7221049704181532, 0.9570124905076708, 0.6409387989689592, 0.9940863260430238, 0.9992667910501223, 0.9914272755968299, 0.9545098406622042, 0.9768087881458288], \"constraintrange\": [0.5, 0.8], \"range\": [0, 1], \"label\": \"Mobility Score\"}], \"type\": \"parcoords\"}], {}, {\"showLink\": true, \"linkText\": \"Export to plot.ly\"})});</script>"
      ]
     },
     "metadata": {},
     "output_type": "display_data"
    }
   ],
   "source": [
    "data = [\n",
    "    go.Parcoords(\n",
    "        line = dict(color = 'blue'),\n",
    "        dimensions = list([\n",
    "            dict(range = [100,1300],\n",
    "                 constraintrange = [100,500],\n",
    "                 label = 'Range', values = param_values['Range']),\n",
    "            dict(range = [10,130],\n",
    "                 constraintrange = [10,50],\n",
    "                 label = 'Max Road Speed', values=param_values['Max_Road_Speed']),\n",
    "            dict(range = [10,110],\n",
    "                 constraintrange = [10,50],\n",
    "                 label = 'Max Off Road Speed', values = param_values['Max_Off_Road_Speed']),\n",
    "            dict(range = [0,1],\n",
    "                 constraintrange = [0.5,0.8],\n",
    "                 label = 'Mobility Score', values = param_values['Mobility_Score'])\n",
    "\n",
    "        ])\n",
    "    )\n",
    "]\n",
    "\n",
    "plotly.offline.iplot(data)"
   ]
  },
  {
   "cell_type": "markdown",
   "metadata": {},
   "source": [
    "As you move the slider for one parameter around, and hold the over values constant, if the mobility score, value changes, then you can quickly determine how sensitive this value is to the final value. In a future, iteration, I will conduct a global sensitivity analysis using the SALib libary to determine which parameter was the most sensitive to the final score. "
   ]
  },
  {
   "cell_type": "code",
   "execution_count": null,
   "metadata": {
    "collapsed": true
   },
   "outputs": [],
   "source": []
  }
 ],
 "metadata": {
  "anaconda-cloud": {},
  "kernelspec": {
   "display_name": "Python [default]",
   "language": "python",
   "name": "python3"
  },
  "language_info": {
   "codemirror_mode": {
    "name": "ipython",
    "version": 3
   },
   "file_extension": ".py",
   "mimetype": "text/x-python",
   "name": "python",
   "nbconvert_exporter": "python",
   "pygments_lexer": "ipython3",
   "version": "3.5.2"
  }
 },
 "nbformat": 4,
 "nbformat_minor": 2
}
